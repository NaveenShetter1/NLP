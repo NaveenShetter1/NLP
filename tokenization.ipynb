{
  "nbformat": 4,
  "nbformat_minor": 0,
  "metadata": {
    "colab": {
      "provenance": [],
      "authorship_tag": "ABX9TyNJOPEefQ7PTQiKC8p77UQ8",
      "include_colab_link": true
    },
    "kernelspec": {
      "name": "python3",
      "display_name": "Python 3"
    },
    "language_info": {
      "name": "python"
    }
  },
  "cells": [
    {
      "cell_type": "markdown",
      "metadata": {
        "id": "view-in-github",
        "colab_type": "text"
      },
      "source": [
        "<a href=\"https://colab.research.google.com/github/NaveenShetter1/NLP/blob/main/tokenization.ipynb\" target=\"_parent\"><img src=\"https://colab.research.google.com/assets/colab-badge.svg\" alt=\"Open In Colab\"/></a>"
      ]
    },
    {
      "cell_type": "code",
      "execution_count": 75,
      "metadata": {
        "id": "eN9_RViNe2QG"
      },
      "outputs": [],
      "source": [
        "import nltk"
      ]
    },
    {
      "cell_type": "code",
      "source": [
        "from nltk.tokenize import sent_tokenize"
      ],
      "metadata": {
        "id": "NW2S0THegAQ0"
      },
      "execution_count": 76,
      "outputs": []
    },
    {
      "cell_type": "code",
      "source": [
        "corpus=\"\"\"Hello welcome, to Naveen shetter's NLP tutorials.\n",
        "Please go though complete tutorails! to expert in NLP.\n",
        "\"\"\"\n",
        "\n",
        "# corpus means paragraph"
      ],
      "metadata": {
        "id": "smuE6UaWgPj_"
      },
      "execution_count": 77,
      "outputs": []
    },
    {
      "cell_type": "code",
      "source": [
        "sent_tokenize(corpus)"
      ],
      "metadata": {
        "colab": {
          "base_uri": "https://localhost:8080/"
        },
        "id": "iWkgrX8ZgjPR",
        "outputId": "0e14cc92-908f-4a76-96eb-19f5fea30c4a"
      },
      "execution_count": 78,
      "outputs": [
        {
          "output_type": "execute_result",
          "data": {
            "text/plain": [
              "[\"Hello welcome, to Naveen shetter's NLP tutorials.\",\n",
              " 'Please go though complete tutorails!',\n",
              " 'to expert in NLP.']"
            ]
          },
          "metadata": {},
          "execution_count": 78
        }
      ]
    },
    {
      "cell_type": "code",
      "source": [
        "nltk.download('punkt_tab')"
      ],
      "metadata": {
        "colab": {
          "base_uri": "https://localhost:8080/"
        },
        "id": "9En7KcoXgo2a",
        "outputId": "71fdc4b0-64fb-4aa2-e92d-c72ea74c9b2b"
      },
      "execution_count": 79,
      "outputs": [
        {
          "output_type": "stream",
          "name": "stderr",
          "text": [
            "[nltk_data] Downloading package punkt_tab to /root/nltk_data...\n",
            "[nltk_data]   Package punkt_tab is already up-to-date!\n"
          ]
        },
        {
          "output_type": "execute_result",
          "data": {
            "text/plain": [
              "True"
            ]
          },
          "metadata": {},
          "execution_count": 79
        }
      ]
    },
    {
      "cell_type": "code",
      "source": [
        "print(sent_tokenize(corpus))"
      ],
      "metadata": {
        "colab": {
          "base_uri": "https://localhost:8080/"
        },
        "id": "55hu0DfbgtQ9",
        "outputId": "da7e56b2-3d8f-453d-fcc2-fafb40e0b064"
      },
      "execution_count": 80,
      "outputs": [
        {
          "output_type": "stream",
          "name": "stdout",
          "text": [
            "[\"Hello welcome, to Naveen shetter's NLP tutorials.\", 'Please go though complete tutorails!', 'to expert in NLP.']\n"
          ]
        }
      ]
    },
    {
      "cell_type": "code",
      "source": [
        "docu=sent_tokenize(corpus)"
      ],
      "metadata": {
        "id": "X2BCMMoLg09z"
      },
      "execution_count": 81,
      "outputs": []
    },
    {
      "cell_type": "code",
      "source": [
        "print(docu)"
      ],
      "metadata": {
        "colab": {
          "base_uri": "https://localhost:8080/"
        },
        "id": "bfw1h4cwg2o1",
        "outputId": "5b688d17-8d41-4ffd-a64d-3633835f88ff"
      },
      "execution_count": 82,
      "outputs": [
        {
          "output_type": "stream",
          "name": "stdout",
          "text": [
            "[\"Hello welcome, to Naveen shetter's NLP tutorials.\", 'Please go though complete tutorails!', 'to expert in NLP.']\n"
          ]
        }
      ]
    },
    {
      "cell_type": "code",
      "source": [
        "type(docu)"
      ],
      "metadata": {
        "colab": {
          "base_uri": "https://localhost:8080/"
        },
        "id": "dv-dteQpg3cG",
        "outputId": "0909281d-d895-4490-9331-d494a9eb82b1"
      },
      "execution_count": 83,
      "outputs": [
        {
          "output_type": "execute_result",
          "data": {
            "text/plain": [
              "list"
            ]
          },
          "metadata": {},
          "execution_count": 83
        }
      ]
    },
    {
      "cell_type": "code",
      "source": [
        "for sentence in docu:\n",
        "  print(sentence)\n",
        ""
      ],
      "metadata": {
        "colab": {
          "base_uri": "https://localhost:8080/"
        },
        "id": "q5NZ9eA2g5IZ",
        "outputId": "5bb25e03-32ba-4df7-e855-e84c4e812175"
      },
      "execution_count": 84,
      "outputs": [
        {
          "output_type": "stream",
          "name": "stdout",
          "text": [
            "Hello welcome, to Naveen shetter's NLP tutorials.\n",
            "Please go though complete tutorails!\n",
            "to expert in NLP.\n"
          ]
        }
      ]
    },
    {
      "cell_type": "code",
      "source": [
        "# 2nd tkenization\n",
        "\n",
        "# paragraph --> words\n",
        "# sentence --> words"
      ],
      "metadata": {
        "id": "xwsUZbnEg91S"
      },
      "execution_count": 85,
      "outputs": []
    },
    {
      "cell_type": "code",
      "source": [
        "from nltk.tokenize import word_tokenize"
      ],
      "metadata": {
        "id": "JaUJcutRhM-C"
      },
      "execution_count": 86,
      "outputs": []
    },
    {
      "cell_type": "code",
      "source": [
        "words=word_tokenize(corpus)"
      ],
      "metadata": {
        "id": "d81CS-iQhVrk"
      },
      "execution_count": 87,
      "outputs": []
    },
    {
      "cell_type": "code",
      "source": [
        "print(words)"
      ],
      "metadata": {
        "colab": {
          "base_uri": "https://localhost:8080/"
        },
        "id": "1UHbE7nEhb32",
        "outputId": "bd829078-0853-4f1a-9f3f-18e4c72b05c2"
      },
      "execution_count": 88,
      "outputs": [
        {
          "output_type": "stream",
          "name": "stdout",
          "text": [
            "['Hello', 'welcome', ',', 'to', 'Naveen', 'shetter', \"'s\", 'NLP', 'tutorials', '.', 'Please', 'go', 'though', 'complete', 'tutorails', '!', 'to', 'expert', 'in', 'NLP', '.']\n"
          ]
        }
      ]
    },
    {
      "cell_type": "code",
      "source": [
        "for sentence in docu:\n",
        "  print(word_tokenize(sentence))"
      ],
      "metadata": {
        "colab": {
          "base_uri": "https://localhost:8080/"
        },
        "id": "LiMTJBZ85HZI",
        "outputId": "b9ae6072-2b2a-4608-f4fe-eaa82d057ef7"
      },
      "execution_count": 95,
      "outputs": [
        {
          "output_type": "stream",
          "name": "stdout",
          "text": [
            "['Hello', 'welcome', ',', 'to', 'Naveen', 'shetter', \"'s\", 'NLP', 'tutorials', '.']\n",
            "['Please', 'go', 'though', 'complete', 'tutorails', '!']\n",
            "['to', 'expert', 'in', 'NLP', '.']\n"
          ]
        }
      ]
    },
    {
      "cell_type": "code",
      "source": [
        "for word in words:\n",
        "  print(word)"
      ],
      "metadata": {
        "colab": {
          "base_uri": "https://localhost:8080/"
        },
        "id": "uJg0XDgmhgiH",
        "outputId": "5eda5695-2c0e-4e93-8594-177bf2df8a54"
      },
      "execution_count": 92,
      "outputs": [
        {
          "output_type": "stream",
          "name": "stdout",
          "text": [
            "Hello\n",
            "welcome\n",
            ",\n",
            "to\n",
            "Naveen\n",
            "shetter\n",
            "'s\n",
            "NLP\n",
            "tutorials\n",
            ".\n",
            "Please\n",
            "go\n",
            "though\n",
            "complete\n",
            "tutorails\n",
            "!\n",
            "to\n",
            "expert\n",
            "in\n",
            "NLP\n",
            ".\n"
          ]
        }
      ]
    },
    {
      "cell_type": "code",
      "source": [
        "from nltk.tokenize import wordpunct_tokenize"
      ],
      "metadata": {
        "id": "MuDbLl3Ch6sE"
      },
      "execution_count": 93,
      "outputs": []
    },
    {
      "cell_type": "code",
      "source": [
        "for sentence in docu:\n",
        "  print(wordpunct_tokenize(sentence))\n",
        "\n",
        "# here even ' is considered as word"
      ],
      "metadata": {
        "colab": {
          "base_uri": "https://localhost:8080/"
        },
        "id": "Wk0H3RY46u8J",
        "outputId": "239adf49-aca5-45a2-9803-9d8e9906487b"
      },
      "execution_count": 96,
      "outputs": [
        {
          "output_type": "stream",
          "name": "stdout",
          "text": [
            "['Hello', 'welcome', ',', 'to', 'Naveen', 'shetter', \"'\", 's', 'NLP', 'tutorials', '.']\n",
            "['Please', 'go', 'though', 'complete', 'tutorails', '!']\n",
            "['to', 'expert', 'in', 'NLP', '.']\n"
          ]
        }
      ]
    },
    {
      "cell_type": "code",
      "source": [
        "from nltk.tokenize import TreebankWordTokenizer"
      ],
      "metadata": {
        "id": "BMqVZyJ27eZL"
      },
      "execution_count": 99,
      "outputs": []
    },
    {
      "cell_type": "code",
      "source": [
        "tokenizer=TreebankWordTokenizer()"
      ],
      "metadata": {
        "id": "jvsswt-g7erK"
      },
      "execution_count": 100,
      "outputs": []
    },
    {
      "cell_type": "code",
      "source": [
        "tokenizer.tokenize(corpus)\n",
        "\n",
        "# here full stop is not treated seperately in middle but at last full stop is seperate word"
      ],
      "metadata": {
        "colab": {
          "base_uri": "https://localhost:8080/"
        },
        "id": "SrjyD_9n7et9",
        "outputId": "c02b4f9e-9a22-4958-9d56-5a4b3a7d44d9"
      },
      "execution_count": 101,
      "outputs": [
        {
          "output_type": "execute_result",
          "data": {
            "text/plain": [
              "['Hello',\n",
              " 'welcome',\n",
              " ',',\n",
              " 'to',\n",
              " 'Naveen',\n",
              " 'shetter',\n",
              " \"'s\",\n",
              " 'NLP',\n",
              " 'tutorials.',\n",
              " 'Please',\n",
              " 'go',\n",
              " 'though',\n",
              " 'complete',\n",
              " 'tutorails',\n",
              " '!',\n",
              " 'to',\n",
              " 'expert',\n",
              " 'in',\n",
              " 'NLP',\n",
              " '.']"
            ]
          },
          "metadata": {},
          "execution_count": 101
        }
      ]
    },
    {
      "cell_type": "code",
      "source": [
        "# in general we use word_tokenize or sent_tokenize"
      ],
      "metadata": {
        "id": "3yNLKRub7eyA"
      },
      "execution_count": 102,
      "outputs": []
    },
    {
      "cell_type": "code",
      "source": [],
      "metadata": {
        "id": "B_EirDFy8bHr"
      },
      "execution_count": null,
      "outputs": []
    }
  ]
}