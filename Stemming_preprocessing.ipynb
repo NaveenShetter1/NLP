{
  "nbformat": 4,
  "nbformat_minor": 0,
  "metadata": {
    "colab": {
      "provenance": [],
      "authorship_tag": "ABX9TyPjzXQV4g7K4xwutfzVkbSc",
      "include_colab_link": true
    },
    "kernelspec": {
      "name": "python3",
      "display_name": "Python 3"
    },
    "language_info": {
      "name": "python"
    }
  },
  "cells": [
    {
      "cell_type": "markdown",
      "metadata": {
        "id": "view-in-github",
        "colab_type": "text"
      },
      "source": [
        "<a href=\"https://colab.research.google.com/github/NaveenShetter1/NLP/blob/main/Stemming_preprocessing.ipynb\" target=\"_parent\"><img src=\"https://colab.research.google.com/assets/colab-badge.svg\" alt=\"Open In Colab\"/></a>"
      ]
    },
    {
      "cell_type": "code",
      "execution_count": 2,
      "metadata": {
        "id": "tW9tmPse8rmw"
      },
      "outputs": [],
      "source": [
        "# stemming is a process of reducing a word to its word stem so affixes to sufixes and prefixes or to the root of the words known as lemma"
      ]
    },
    {
      "cell_type": "code",
      "source": [
        "# classification problem\n",
        "\n",
        "# find comments on a product is positive or negative\n",
        "# here datasets will be in the form of reviews that is sentence or words that is texts\n",
        "# like eating, eat, or eaten here stem is eat so by this will reduce the size of the dataset\n",
        "#so stemming is preprocessing step so that at end we will be able to convert those texts into vectors\n",
        "\n"
      ],
      "metadata": {
        "id": "faBKDAR_BhM-"
      },
      "execution_count": 3,
      "outputs": []
    },
    {
      "cell_type": "code",
      "source": [
        "words=['eating','eats','eaten','writing','writes','programming','program','history','finally','finalized']"
      ],
      "metadata": {
        "id": "bPVmt9TkBbZ5"
      },
      "execution_count": 4,
      "outputs": []
    },
    {
      "cell_type": "code",
      "source": [
        "# PorterStemmer"
      ],
      "metadata": {
        "id": "-vMbms0VDGmq"
      },
      "execution_count": 5,
      "outputs": []
    },
    {
      "cell_type": "code",
      "source": [
        "from nltk.stem import PorterStemmer"
      ],
      "metadata": {
        "id": "eJMmXAI0DRO_"
      },
      "execution_count": 6,
      "outputs": []
    },
    {
      "cell_type": "code",
      "source": [
        "porterstemming=PorterStemmer()"
      ],
      "metadata": {
        "id": "tm9sxpAODXAS"
      },
      "execution_count": 7,
      "outputs": []
    },
    {
      "cell_type": "code",
      "source": [
        "for word in words:\n",
        "  print(word+\" ----> \"+porterstemming.stem(word))"
      ],
      "metadata": {
        "colab": {
          "base_uri": "https://localhost:8080/"
        },
        "id": "UaUkcc6aDaXU",
        "outputId": "761488fd-2403-46fd-bfba-064cd92d11e0"
      },
      "execution_count": 8,
      "outputs": [
        {
          "output_type": "stream",
          "name": "stdout",
          "text": [
            "eating ----> eat\n",
            "eats ----> eat\n",
            "eaten ----> eaten\n",
            "writing ----> write\n",
            "writes ----> write\n",
            "programming ----> program\n",
            "program ----> program\n",
            "history ----> histori\n",
            "finally ----> final\n",
            "finalized ----> final\n"
          ]
        }
      ]
    },
    {
      "cell_type": "code",
      "source": [
        "# here above eaten is not given correct output by steming and for history also wrong output\n",
        "# this is the major disadvantage of stemming"
      ],
      "metadata": {
        "id": "YQS3PA5pDnui"
      },
      "execution_count": 9,
      "outputs": []
    },
    {
      "cell_type": "code",
      "source": [
        "porterstemming.stem('congratulations')"
      ],
      "metadata": {
        "colab": {
          "base_uri": "https://localhost:8080/",
          "height": 35
        },
        "id": "Ton0RHk9D4_B",
        "outputId": "99818fbd-aaa2-4c0b-d1e2-e14e235b135a"
      },
      "execution_count": 10,
      "outputs": [
        {
          "output_type": "execute_result",
          "data": {
            "text/plain": [
              "'congratul'"
            ],
            "application/vnd.google.colaboratory.intrinsic+json": {
              "type": "string"
            }
          },
          "metadata": {},
          "execution_count": 10
        }
      ]
    },
    {
      "cell_type": "code",
      "source": [
        "# here also wrong output"
      ],
      "metadata": {
        "id": "sk0QGDeUEIhS"
      },
      "execution_count": 11,
      "outputs": []
    },
    {
      "cell_type": "code",
      "source": [
        "porterstemming.stem('sitting')"
      ],
      "metadata": {
        "colab": {
          "base_uri": "https://localhost:8080/",
          "height": 35
        },
        "id": "9UY-ENp2ELjD",
        "outputId": "10c9fcd3-67fd-4073-e109-f94207bf47ae"
      },
      "execution_count": 12,
      "outputs": [
        {
          "output_type": "execute_result",
          "data": {
            "text/plain": [
              "'sit'"
            ],
            "application/vnd.google.colaboratory.intrinsic+json": {
              "type": "string"
            }
          },
          "metadata": {},
          "execution_count": 12
        }
      ]
    },
    {
      "cell_type": "code",
      "source": [
        "# here it worked fine"
      ],
      "metadata": {
        "id": "6zhPuQxfEXy2"
      },
      "execution_count": 13,
      "outputs": []
    },
    {
      "cell_type": "code",
      "source": [
        "# to find whether a email is spam or not we will use stemming"
      ],
      "metadata": {
        "id": "klQTRPTBEbN4"
      },
      "execution_count": 14,
      "outputs": []
    },
    {
      "cell_type": "code",
      "source": [],
      "metadata": {
        "id": "TGYA3mZdExW6"
      },
      "execution_count": 14,
      "outputs": []
    },
    {
      "cell_type": "markdown",
      "source": [
        "\n",
        "\n",
        "```\n",
        "# 2nd type\n",
        "# regexpstemmer with the help of this we can implement regular expression\n",
        "stemmer algorithm, it basically takes a single regular expression and removes\n",
        "any prefix or sufixes that matches the expression\n",
        "```\n",
        "\n"
      ],
      "metadata": {
        "id": "jpEZ4KvwFJ8R"
      }
    },
    {
      "cell_type": "code",
      "source": [
        "from nltk.stem import RegexpStemmer"
      ],
      "metadata": {
        "id": "ERfVr5pWFNdq"
      },
      "execution_count": 15,
      "outputs": []
    },
    {
      "cell_type": "code",
      "source": [
        "reg_stemmer=RegexpStemmer(\"ing$|s$|e$|able$\",min=4)\n",
        "\n",
        "# in above it states that if $ is at end means, it will remove the last words"
      ],
      "metadata": {
        "id": "aDidyMGLRW4b"
      },
      "execution_count": 16,
      "outputs": []
    },
    {
      "cell_type": "code",
      "source": [
        "reg_stemmer.stem('eating')"
      ],
      "metadata": {
        "colab": {
          "base_uri": "https://localhost:8080/",
          "height": 35
        },
        "id": "Oto9KSYyRan2",
        "outputId": "bdcf24c1-72cb-4f5f-8e61-aa9b3b99ebcf"
      },
      "execution_count": 17,
      "outputs": [
        {
          "output_type": "execute_result",
          "data": {
            "text/plain": [
              "'eat'"
            ],
            "application/vnd.google.colaboratory.intrinsic+json": {
              "type": "string"
            }
          },
          "metadata": {},
          "execution_count": 17
        }
      ]
    },
    {
      "cell_type": "code",
      "source": [
        "reg_stemmer.stem('ingeat')"
      ],
      "metadata": {
        "colab": {
          "base_uri": "https://localhost:8080/",
          "height": 35
        },
        "id": "6AnFYGynSXZO",
        "outputId": "d6189a3c-234a-4e6d-c0f4-23effe4c9a7f"
      },
      "execution_count": 18,
      "outputs": [
        {
          "output_type": "execute_result",
          "data": {
            "text/plain": [
              "'ingeat'"
            ],
            "application/vnd.google.colaboratory.intrinsic+json": {
              "type": "string"
            }
          },
          "metadata": {},
          "execution_count": 18
        }
      ]
    },
    {
      "cell_type": "code",
      "source": [
        "reg_stemmer.stem(\"yess\")"
      ],
      "metadata": {
        "colab": {
          "base_uri": "https://localhost:8080/",
          "height": 35
        },
        "id": "h-be4vXNR8nX",
        "outputId": "4a7d3bf7-9b6d-444a-cc69-bfe6505c48bc"
      },
      "execution_count": 19,
      "outputs": [
        {
          "output_type": "execute_result",
          "data": {
            "text/plain": [
              "'yes'"
            ],
            "application/vnd.google.colaboratory.intrinsic+json": {
              "type": "string"
            }
          },
          "metadata": {},
          "execution_count": 19
        }
      ]
    },
    {
      "cell_type": "code",
      "source": [
        "reg_stemmer1=RegexpStemmer(\"ing|s$|e$|able$\",min=4)"
      ],
      "metadata": {
        "id": "7eFxQhrBSQXw"
      },
      "execution_count": 20,
      "outputs": []
    },
    {
      "cell_type": "code",
      "source": [
        "reg_stemmer1.stem('ingeatinging')"
      ],
      "metadata": {
        "colab": {
          "base_uri": "https://localhost:8080/",
          "height": 35
        },
        "id": "Ykny7Pn7ShrC",
        "outputId": "9eb0e608-db7e-4ad2-d640-8aed27ed8579"
      },
      "execution_count": 21,
      "outputs": [
        {
          "output_type": "execute_result",
          "data": {
            "text/plain": [
              "'eat'"
            ],
            "application/vnd.google.colaboratory.intrinsic+json": {
              "type": "string"
            }
          },
          "metadata": {},
          "execution_count": 21
        }
      ]
    },
    {
      "cell_type": "code",
      "source": [
        "reg_stemmer2=RegexpStemmer(\"ing$|s$|e$|able$\",min=4)"
      ],
      "metadata": {
        "id": "ytangYODSlxf"
      },
      "execution_count": 22,
      "outputs": []
    },
    {
      "cell_type": "code",
      "source": [
        "reg_stemmer2.stem('understandable')"
      ],
      "metadata": {
        "colab": {
          "base_uri": "https://localhost:8080/",
          "height": 35
        },
        "id": "9f4x-JnXTBva",
        "outputId": "9251eb1d-c63a-41ea-ec4a-a77a25721951"
      },
      "execution_count": 23,
      "outputs": [
        {
          "output_type": "execute_result",
          "data": {
            "text/plain": [
              "'understand'"
            ],
            "application/vnd.google.colaboratory.intrinsic+json": {
              "type": "string"
            }
          },
          "metadata": {},
          "execution_count": 23
        }
      ]
    },
    {
      "cell_type": "markdown",
      "source": [
        "Snow ball stemmer\n",
        "\n",
        "better than porterstemmer in accuracy"
      ],
      "metadata": {
        "id": "5xUCDn1yTOKT"
      }
    },
    {
      "cell_type": "code",
      "source": [
        "from nltk.stem import SnowballStemmer"
      ],
      "metadata": {
        "id": "l2SfObO-TF2g"
      },
      "execution_count": 24,
      "outputs": []
    },
    {
      "cell_type": "code",
      "source": [
        "snowballstemmer=SnowballStemmer(\"english\")"
      ],
      "metadata": {
        "id": "5uq1qnz_Tkox"
      },
      "execution_count": 25,
      "outputs": []
    },
    {
      "cell_type": "code",
      "source": [
        "for word in words:\n",
        "  print(word+'---->'+snowballstemmer.stem(word))"
      ],
      "metadata": {
        "colab": {
          "base_uri": "https://localhost:8080/"
        },
        "id": "Lf-gyyp_TrOM",
        "outputId": "fb3a43fc-7346-4aa5-d594-00b5e0f6eb8a"
      },
      "execution_count": 26,
      "outputs": [
        {
          "output_type": "stream",
          "name": "stdout",
          "text": [
            "eating---->eat\n",
            "eats---->eat\n",
            "eaten---->eaten\n",
            "writing---->write\n",
            "writes---->write\n",
            "programming---->program\n",
            "program---->program\n",
            "history---->histori\n",
            "finally---->final\n",
            "finalized---->final\n"
          ]
        }
      ]
    },
    {
      "cell_type": "code",
      "source": [
        "# here also we got error for history"
      ],
      "metadata": {
        "id": "uy6aHbkoT4wb"
      },
      "execution_count": 27,
      "outputs": []
    },
    {
      "cell_type": "code",
      "source": [
        "porterstemming.stem('fairly'),porterstemming.stem('supportingly')"
      ],
      "metadata": {
        "colab": {
          "base_uri": "https://localhost:8080/"
        },
        "id": "MwPSWprlUA34",
        "outputId": "85ebf8a5-bf98-4191-82bb-b3a8faf1b0ca"
      },
      "execution_count": 28,
      "outputs": [
        {
          "output_type": "execute_result",
          "data": {
            "text/plain": [
              "('fairli', 'supportingli')"
            ]
          },
          "metadata": {},
          "execution_count": 28
        }
      ]
    },
    {
      "cell_type": "code",
      "source": [
        "snowballstemmer.stem('fairly'),snowballstemmer.stem('supportingly')"
      ],
      "metadata": {
        "colab": {
          "base_uri": "https://localhost:8080/"
        },
        "id": "__bXqdQxUcYO",
        "outputId": "8004d5ed-3f07-4e39-9db2-932859704642"
      },
      "execution_count": 29,
      "outputs": [
        {
          "output_type": "execute_result",
          "data": {
            "text/plain": [
              "('fair', 'support')"
            ]
          },
          "metadata": {},
          "execution_count": 29
        }
      ]
    },
    {
      "cell_type": "code",
      "source": [
        "# so here above few words snowballstemmer is working fine"
      ],
      "metadata": {
        "id": "ankpHaBOUo2Q"
      },
      "execution_count": 30,
      "outputs": []
    },
    {
      "cell_type": "code",
      "source": [
        "snowballstemmer.stem('goes')"
      ],
      "metadata": {
        "colab": {
          "base_uri": "https://localhost:8080/",
          "height": 35
        },
        "id": "TNyCqLBoUup_",
        "outputId": "34d8045a-139b-42b3-cb9d-71d23136a70f"
      },
      "execution_count": 31,
      "outputs": [
        {
          "output_type": "execute_result",
          "data": {
            "text/plain": [
              "'goe'"
            ],
            "application/vnd.google.colaboratory.intrinsic+json": {
              "type": "string"
            }
          },
          "metadata": {},
          "execution_count": 31
        }
      ]
    },
    {
      "cell_type": "code",
      "source": [
        "snowballstemmer.stem('history')"
      ],
      "metadata": {
        "colab": {
          "base_uri": "https://localhost:8080/",
          "height": 35
        },
        "id": "AxCqHWYopQkf",
        "outputId": "19c7e020-543b-4801-aabd-8bbf63400a9f"
      },
      "execution_count": 32,
      "outputs": [
        {
          "output_type": "execute_result",
          "data": {
            "text/plain": [
              "'histori'"
            ],
            "application/vnd.google.colaboratory.intrinsic+json": {
              "type": "string"
            }
          },
          "metadata": {},
          "execution_count": 32
        }
      ]
    },
    {
      "cell_type": "code",
      "source": [
        "# because of above issues stemming cannot be used for chatbots and all for that we will use lametization"
      ],
      "metadata": {
        "id": "HKCHZZospXXN"
      },
      "execution_count": 33,
      "outputs": []
    },
    {
      "cell_type": "code",
      "source": [],
      "metadata": {
        "id": "EnBeavKXpl6i"
      },
      "execution_count": null,
      "outputs": []
    }
  ]
}